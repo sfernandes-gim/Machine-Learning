{
 "cells": [
  {
   "cell_type": "markdown",
   "metadata": {},
   "source": [
    "## Model Calibration & Tuning - Defaults Data Set"
   ]
  },
  {
   "cell_type": "markdown",
   "metadata": {},
   "source": [
    "### Model Tuning using probablity cut off"
   ]
  },
  {
   "cell_type": "code",
   "execution_count": null,
   "metadata": {},
   "outputs": [],
   "source": [
    "#Data : https://archive.ics.uci.edu/ml/datasets/default+of+credit+card+clients"
   ]
  },
  {
   "cell_type": "code",
   "execution_count": 1,
   "metadata": {},
   "outputs": [],
   "source": [
    "import pandas as pd\n",
    "import numpy as np\n",
    "\n",
    "from sklearn.ensemble import RandomForestClassifier\n",
    "from sklearn.model_selection import RandomizedSearchCV, GridSearchCV,train_test_split\n",
    "from sklearn.metrics import accuracy_score,confusion_matrix,classification_report,accuracy_score,brier_score_loss,f1_score,roc_auc_score, log_loss,roc_curve\n",
    "import warnings\n",
    "warnings.filterwarnings('ignore')\n",
    "\n",
    "from sklearn.calibration import calibration_curve,CalibratedClassifierCV\n",
    "from matplotlib import pyplot\n",
    "import matplotlib.pyplot as plt\n",
    "import matplotlib.lines as mlines\n",
    "import matplotlib.transforms as mtransforms\n",
    "\n",
    "%matplotlib inline"
   ]
  },
  {
   "cell_type": "code",
   "execution_count": 2,
   "metadata": {},
   "outputs": [],
   "source": [
    "# Read input file and consider only the continous variables for now\n",
    "data = pd.read_excel(\"defaults.xls\", header=1)\n",
    "model_features = list(set(data.columns).difference({\"ID\", \"default payment next month\", \"SEX\", \"EDUCATION\", \"MARRIAGE\"}))\n",
    "target = [\"default payment next month\"]\n",
    "X = data[model_features]\n",
    "Y = data[target]"
   ]
  },
  {
   "cell_type": "code",
   "execution_count": 51,
   "metadata": {},
   "outputs": [
    {
     "data": {
      "text/plain": [
       "default payment next month\n",
       "0                             77.88\n",
       "1                             22.12\n",
       "dtype: float64"
      ]
     },
     "execution_count": 51,
     "metadata": {},
     "output_type": "execute_result"
    }
   ],
   "source": [
    "#Check the proportion of y class\n",
    "Y.value_counts(normalize=True)*100"
   ]
  },
  {
   "cell_type": "code",
   "execution_count": 3,
   "metadata": {},
   "outputs": [],
   "source": [
    "#### Train Test Split  Ensure the stratified sample on the y variable\n",
    "X_train,X_test,y_train,y_test=train_test_split(X,Y,test_size=0.20,stratify=Y, random_state=123)"
   ]
  },
  {
   "cell_type": "code",
   "execution_count": 4,
   "metadata": {},
   "outputs": [
    {
     "data": {
      "text/plain": [
       "0.7781390504962772"
      ]
     },
     "execution_count": 4,
     "metadata": {},
     "output_type": "execute_result"
    }
   ],
   "source": [
    "#Fit a basic RF model , class weight can be adjusted if imbalanced\n",
    "rf_clf = RandomForestClassifier(n_estimators=100, \n",
    "                                max_depth=6, \n",
    "                                min_samples_split=200, \n",
    "                                random_state=12, \n",
    "                                class_weight=\"balanced\")\n",
    "rf_clf.fit(X_train, y_train)\n",
    "y_pred =  rf_clf.predict(X_test)\n",
    "rf_predictions = rf_clf.predict_proba(X_test)\n",
    "rf_roc_score = roc_auc_score(y_test, rf_predictions[:,1])\n",
    "rf_roc_score"
   ]
  },
  {
   "cell_type": "code",
   "execution_count": 5,
   "metadata": {},
   "outputs": [
    {
     "name": "stdout",
     "output_type": "stream",
     "text": [
      "Accuracy Score 0.7738333333333334\n",
      "Classification report:               precision    recall  f1-score   support\n",
      "\n",
      "           0       0.88      0.82      0.85      4673\n",
      "           1       0.49      0.61      0.54      1327\n",
      "\n",
      "    accuracy                           0.77      6000\n",
      "   macro avg       0.69      0.71      0.70      6000\n",
      "weighted avg       0.79      0.77      0.78      6000\n",
      "\n",
      "AUC: 0.7142425074636302\n"
     ]
    }
   ],
   "source": [
    "print(\"Accuracy Score {}\".format(accuracy_score(y_test,y_pred)))\n",
    "print(\"Classification report: {}\".format(classification_report(y_test,y_pred)))\n",
    "print(\"AUC: {}\".format(roc_auc_score(y_test, y_pred)))"
   ]
  },
  {
   "cell_type": "code",
   "execution_count": 6,
   "metadata": {},
   "outputs": [
    {
     "data": {
      "text/plain": [
       "array([1.91521075, 0.91521075, 0.9147504 , ..., 0.20434183, 0.20413086,\n",
       "       0.19950363])"
      ]
     },
     "execution_count": 6,
     "metadata": {},
     "output_type": "execute_result"
    }
   ],
   "source": [
    "#### Calculate the ROc Curve\n",
    "fpr, tpr, thresholds = roc_curve(y_test, rf_predictions[:,1])\n",
    "thresholds"
   ]
  },
  {
   "cell_type": "code",
   "execution_count": 7,
   "metadata": {},
   "outputs": [
    {
     "data": {
      "text/html": [
       "<div>\n",
       "<style scoped>\n",
       "    .dataframe tbody tr th:only-of-type {\n",
       "        vertical-align: middle;\n",
       "    }\n",
       "\n",
       "    .dataframe tbody tr th {\n",
       "        vertical-align: top;\n",
       "    }\n",
       "\n",
       "    .dataframe thead th {\n",
       "        text-align: right;\n",
       "    }\n",
       "</style>\n",
       "<table border=\"1\" class=\"dataframe\">\n",
       "  <thead>\n",
       "    <tr style=\"text-align: right;\">\n",
       "      <th></th>\n",
       "      <th>thresholds</th>\n",
       "      <th>f1_score</th>\n",
       "    </tr>\n",
       "  </thead>\n",
       "  <tbody>\n",
       "    <tr>\n",
       "      <th>671</th>\n",
       "      <td>0.527185</td>\n",
       "      <td>0.548084</td>\n",
       "    </tr>\n",
       "    <tr>\n",
       "      <th>667</th>\n",
       "      <td>0.527565</td>\n",
       "      <td>0.548025</td>\n",
       "    </tr>\n",
       "    <tr>\n",
       "      <th>669</th>\n",
       "      <td>0.527494</td>\n",
       "      <td>0.547955</td>\n",
       "    </tr>\n",
       "    <tr>\n",
       "      <th>672</th>\n",
       "      <td>0.526893</td>\n",
       "      <td>0.547886</td>\n",
       "    </tr>\n",
       "    <tr>\n",
       "      <th>670</th>\n",
       "      <td>0.527352</td>\n",
       "      <td>0.547757</td>\n",
       "    </tr>\n",
       "  </tbody>\n",
       "</table>\n",
       "</div>"
      ],
      "text/plain": [
       "     thresholds  f1_score\n",
       "671    0.527185  0.548084\n",
       "667    0.527565  0.548025\n",
       "669    0.527494  0.547955\n",
       "672    0.526893  0.547886\n",
       "670    0.527352  0.547757"
      ]
     },
     "execution_count": 7,
     "metadata": {},
     "output_type": "execute_result"
    }
   ],
   "source": [
    "# Determine the metric score based on the new thresholds\n",
    "Metric_ls = []\n",
    "for thres in thresholds:\n",
    "    y_pred = np.where(rf_predictions[:,1]>thres,1,0)\n",
    "    Metric_ls.append(f1_score(y_test, y_pred))\n",
    "    \n",
    "Metric_ls = pd.concat([pd.Series(thresholds), pd.Series(Metric_ls)],\n",
    "                        axis=1)\n",
    "Metric_ls.columns = ['thresholds', 'f1_score']\n",
    "Metric_ls.sort_values(by='f1_score', ascending=False, inplace=True)\n",
    "Metric_ls.head()"
   ]
  },
  {
   "cell_type": "code",
   "execution_count": 8,
   "metadata": {},
   "outputs": [],
   "source": [
    "threshold = 0.536939 # Use the best threshold as above here\n",
    "preds = [1 if rf_predictions[i][1]> threshold else 0 for i in range(len(rf_predictions))]"
   ]
  },
  {
   "cell_type": "code",
   "execution_count": 9,
   "metadata": {},
   "outputs": [
    {
     "name": "stdout",
     "output_type": "stream",
     "text": [
      "Accuracy Score 0.7946666666666666\n",
      "Classification report:               precision    recall  f1-score   support\n",
      "\n",
      "           0       0.87      0.86      0.87      4673\n",
      "           1       0.53      0.55      0.54      1327\n",
      "\n",
      "    accuracy                           0.79      6000\n",
      "   macro avg       0.70      0.71      0.71      6000\n",
      "weighted avg       0.80      0.79      0.80      6000\n",
      "\n",
      "AUC: 0.7081921816408812\n"
     ]
    }
   ],
   "source": [
    "print(\"Accuracy Score {}\".format(accuracy_score(y_test,preds)))\n",
    "print(\"Classification report: {}\".format(classification_report(y_test,preds)))\n",
    "print(\"AUC: {}\".format(roc_auc_score(y_test, preds)))"
   ]
  },
  {
   "cell_type": "code",
   "execution_count": 24,
   "metadata": {},
   "outputs": [
    {
     "data": {
      "text/plain": [
       "0.7786681526465347"
      ]
     },
     "execution_count": 24,
     "metadata": {},
     "output_type": "execute_result"
    }
   ],
   "source": [
    "#Model Calibration using Platt\n",
    "calib_clf = CalibratedClassifierCV(rf_clf,  method='isotonic', cv=3) #sigmoid or isotonic\n",
    "calib_clf.fit(X_train, y_train)\n",
    "\n",
    "calibrated_predictions = calib_clf.predict_proba(X_test)\n",
    "calib_roc_score = roc_auc_score(y_test, calibrated_predictions[:,1])\n",
    "calib_roc_score"
   ]
  },
  {
   "cell_type": "code",
   "execution_count": 25,
   "metadata": {},
   "outputs": [
    {
     "data": {
      "image/png": "[encoded data removed]",
      "text/plain": [
       "<Figure size 720x504 with 1 Axes>"
      ]
     },
     "metadata": {
      "needs_background": "light"
     },
     "output_type": "display_data"
    }
   ],
   "source": [
    "rf_y_unca, rf_x_unca = calibration_curve(y_test, rf_predictions[:,1], n_bins=10,normalize=True)\n",
    "rf_y_cal, rf_x_cal = calibration_curve(y_test, calibrated_predictions[:,1], n_bins=10,normalize=True)\n",
    "\n",
    "fig = plt.figure(figsize=(10, 7))\n",
    "\n",
    "probablities = np.arange(0, 1.2, 0.2)\n",
    "\n",
    "# plot perfectly calibrated\n",
    "plt.plot(probablities, probablities, \"--\",color='black', label=\"Perfectly calibrated\")\n",
    "\n",
    "# plot model reliabilities\n",
    "# only these two lines are calibration curves\n",
    "plt.plot(rf_y_unca, rf_x_unca, marker='o', linewidth=1, label='unc')\n",
    "# only these two lines are calibration curves\n",
    "plt.plot(rf_y_cal, rf_x_cal, marker='.', linewidth=1, label='cal')\n",
    "\n",
    "fig.suptitle('Calibration plot')\n",
    "ax.set_xlabel('Predicted probs')\n",
    "ax.set_ylabel('True Probs')\n",
    "\n",
    "plt.legend(); \n",
    "plt.show()"
   ]
  },
  {
   "cell_type": "code",
   "execution_count": 26,
   "metadata": {},
   "outputs": [
    {
     "name": "stdout",
     "output_type": "stream",
     "text": [
      "Lower Bier Score is better\n",
      "Bier Score Before calibration: 0.184\n",
      "Bier Score After calibration: 0.135\n",
      "\n",
      "Lower Log Loss is better\n",
      "Log Loss before calib: 0.556\n",
      "Log Loss after calib: 0.43\n"
     ]
    }
   ],
   "source": [
    "# calculate bier score\n",
    "print(\"Lower Bier Score is better\")\n",
    "print(\"Bier Score Before calibration: {}\".format(round(brier_score_loss(y_test, rf_predictions[:,1], pos_label=1),3)))\n",
    "print(\"Bier Score After calibration: {}\".format(round(brier_score_loss(y_test,  calibrated_predictions[:,1], pos_label=1),3)))\n",
    "print(\"\")\n",
    "print(\"Lower Log Loss is better\")\n",
    "print(\"Log Loss before calib: {}\".format(round(log_loss(y_test,  rf_predictions[:,1], eps=1e-15, normalize=True),3)))\n",
    "print(\"Log Loss after calib: {}\".format(round(log_loss(y_test,  calibrated_predictions[:,1], eps=1e-15, normalize=True),3)))"
   ]
  },
  {
   "cell_type": "markdown",
   "metadata": {},
   "source": [
    "## Hyperparamter Tuning using Randomised SearchCV & GridSearchCV"
   ]
  },
  {
   "cell_type": "code",
   "execution_count": 27,
   "metadata": {},
   "outputs": [],
   "source": [
    "# Number of trees in random forest\n",
    "n_estimators = [int(x) for x in np.linspace(start = 200, stop = 2000, num = 10)]\n",
    "# Number of features to consider at every split\n",
    "max_features = ['auto', 'sqrt','log2']\n",
    "# Maximum number of levels in tree\n",
    "max_depth = [int(x) for x in np.linspace(10, 1000,10)]\n",
    "# Minimum number of samples required to split a node\n",
    "min_samples_split = [2, 5, 10,14]\n",
    "# Minimum number of samples required at each leaf node\n",
    "min_samples_leaf = [1, 2, 4,6,8]\n",
    "# Create the random grid\n",
    "random_grid = {'n_estimators': n_estimators,\n",
    "               'max_features': max_features,\n",
    "               'max_depth': max_depth,\n",
    "               'min_samples_split': min_samples_split,\n",
    "               'min_samples_leaf': min_samples_leaf,\n",
    "              'criterion':['entropy','gini']}"
   ]
  },
  {
   "cell_type": "code",
   "execution_count": 28,
   "metadata": {},
   "outputs": [
    {
     "name": "stdout",
     "output_type": "stream",
     "text": [
      "Fitting 3 folds for each of 20 candidates, totalling 60 fits\n"
     ]
    },
    {
     "name": "stderr",
     "output_type": "stream",
     "text": [
      "[Parallel(n_jobs=-1)]: Using backend LokyBackend with 4 concurrent workers.\n",
      "[Parallel(n_jobs=-1)]: Done  33 tasks      | elapsed: 18.9min\n",
      "[Parallel(n_jobs=-1)]: Done  60 out of  60 | elapsed: 29.0min finished\n"
     ]
    },
    {
     "data": {
      "text/plain": [
       "RandomizedSearchCV(cv=3, estimator=RandomForestClassifier(), n_iter=20,\n",
       "                   n_jobs=-1,\n",
       "                   param_distributions={'criterion': ['entropy', 'gini'],\n",
       "                                        'max_depth': [10, 120, 230, 340, 450,\n",
       "                                                      560, 670, 780, 890,\n",
       "                                                      1000],\n",
       "                                        'max_features': ['auto', 'sqrt',\n",
       "                                                         'log2'],\n",
       "                                        'min_samples_leaf': [1, 2, 4, 6, 8],\n",
       "                                        'min_samples_split': [2, 5, 10, 14],\n",
       "                                        'n_estimators': [200, 400, 600, 800,\n",
       "                                                         1000, 1200, 1400, 1600,\n",
       "                                                         1800, 2000]},\n",
       "                   random_state=100, scoring='f1', verbose=2)"
      ]
     },
     "execution_count": 28,
     "metadata": {},
     "output_type": "execute_result"
    }
   ],
   "source": [
    "rf=RandomForestClassifier()\n",
    "rf_randomcv=RandomizedSearchCV(estimator=rf,param_distributions=random_grid,n_iter=20,cv=3,verbose=2, scoring = 'f1',\n",
    "                               random_state=100,n_jobs=-1)\n",
    "### fit the randomized model\n",
    "rf_randomcv.fit(X_train,y_train)"
   ]
  },
  {
   "cell_type": "code",
   "execution_count": 29,
   "metadata": {},
   "outputs": [
    {
     "name": "stdout",
     "output_type": "stream",
     "text": [
      "[[4439  234]\n",
      " [ 840  487]]\n",
      "Accuracy Score 0.821\n",
      "Classification report:               precision    recall  f1-score   support\n",
      "\n",
      "           0       0.84      0.95      0.89      4673\n",
      "           1       0.68      0.37      0.48      1327\n",
      "\n",
      "    accuracy                           0.82      6000\n",
      "   macro avg       0.76      0.66      0.68      6000\n",
      "weighted avg       0.80      0.82      0.80      6000\n",
      "\n",
      "AUC: 0.65845915971612\n",
      "Log Loss: 0.4334223435640565\n"
     ]
    }
   ],
   "source": [
    "y_pred=rf_randomcv.best_estimator_.predict(X_test)\n",
    "y_pred_prob=rf_randomcv.best_estimator_.predict_proba(X_test)[:, 1]  #Uses the second colum of array for 0/1\n",
    "print(confusion_matrix(y_test,y_pred))\n",
    "print(\"Accuracy Score {}\".format(accuracy_score(y_test,y_pred)))\n",
    "print(\"Classification report: {}\".format(classification_report(y_test,y_pred)))\n",
    "print(\"AUC: {}\".format(roc_auc_score(y_test, y_pred)))\n",
    "print(\"Log Loss: {}\".format(log_loss(y_test, y_pred_prob, eps=1e-15, normalize=True)))"
   ]
  },
  {
   "cell_type": "code",
   "execution_count": 30,
   "metadata": {},
   "outputs": [],
   "source": [
    "param_grid = {\n",
    "    'criterion': [rf_randomcv.best_params_['criterion']],\n",
    "    'max_depth': [rf_randomcv.best_params_['max_depth']],\n",
    "    'max_features': [rf_randomcv.best_params_['max_features']],\n",
    "    'min_samples_leaf': [rf_randomcv.best_params_['min_samples_leaf'], \n",
    "                         rf_randomcv.best_params_['min_samples_leaf']+2, \n",
    "                         rf_randomcv.best_params_['min_samples_leaf'] + 4],\n",
    "    'min_samples_split': [rf_randomcv.best_params_['min_samples_split'] - 2,\n",
    "                          rf_randomcv.best_params_['min_samples_split'] - 1,\n",
    "                          rf_randomcv.best_params_['min_samples_split'], \n",
    "                          rf_randomcv.best_params_['min_samples_split'] +1,\n",
    "                          rf_randomcv.best_params_['min_samples_split'] + 2],\n",
    "    'n_estimators': [rf_randomcv.best_params_['n_estimators'] - 80, rf_randomcv.best_params_['n_estimators'] - 50, \n",
    "                     rf_randomcv.best_params_['n_estimators'], \n",
    "                     rf_randomcv.best_params_['n_estimators'] + 50, rf_randomcv.best_params_['n_estimators'] + 80]\n",
    "}\n"
   ]
  },
  {
   "cell_type": "code",
   "execution_count": 33,
   "metadata": {},
   "outputs": [
    {
     "name": "stdout",
     "output_type": "stream",
     "text": [
      "Fitting 2 folds for each of 75 candidates, totalling 150 fits\n"
     ]
    },
    {
     "name": "stderr",
     "output_type": "stream",
     "text": [
      "[Parallel(n_jobs=-1)]: Using backend LokyBackend with 4 concurrent workers.\n",
      "[Parallel(n_jobs=-1)]: Done  33 tasks      | elapsed:  4.0min\n",
      "[Parallel(n_jobs=-1)]: Done 150 out of 150 | elapsed: 16.6min finished\n"
     ]
    },
    {
     "data": {
      "text/plain": [
       "GridSearchCV(cv=2, estimator=RandomForestClassifier(), n_jobs=-1,\n",
       "             param_grid={'criterion': ['gini'], 'max_depth': [670],\n",
       "                         'max_features': ['sqrt'],\n",
       "                         'min_samples_leaf': [2, 4, 6],\n",
       "                         'min_samples_split': [12, 13, 14, 15, 16],\n",
       "                         'n_estimators': [320, 350, 400, 450, 480]},\n",
       "             verbose=2)"
      ]
     },
     "execution_count": 33,
     "metadata": {},
     "output_type": "execute_result"
    }
   ],
   "source": [
    "rf=RandomForestClassifier()\n",
    "grid_search=GridSearchCV(estimator=rf,param_grid=param_grid,cv=2,n_jobs=-1,verbose=2)\n",
    "grid_search.fit(X_train,y_train)"
   ]
  },
  {
   "cell_type": "code",
   "execution_count": 34,
   "metadata": {},
   "outputs": [
    {
     "name": "stdout",
     "output_type": "stream",
     "text": [
      "[[4450  223]\n",
      " [ 846  481]]\n",
      "Accuracy Score 0.8218333333333333\n",
      "Classification report:               precision    recall  f1-score   support\n",
      "\n",
      "           0       0.84      0.95      0.89      4673\n",
      "           1       0.68      0.36      0.47      1327\n",
      "\n",
      "    accuracy                           0.82      6000\n",
      "   macro avg       0.76      0.66      0.68      6000\n",
      "weighted avg       0.81      0.82      0.80      6000\n",
      "\n"
     ]
    }
   ],
   "source": [
    "y_pred=grid_search.best_estimator_.predict(X_test)\n",
    "print(confusion_matrix(y_test,y_pred))\n",
    "print(\"Accuracy Score {}\".format(accuracy_score(y_test,y_pred)))\n",
    "print(\"Classification report: {}\".format(classification_report(y_test,y_pred)))"
   ]
  },
  {
   "cell_type": "code",
   "execution_count": 52,
   "metadata": {},
   "outputs": [],
   "source": [
    "calibrated = CalibratedClassifierCV(grid_search.best_estimator_, method='isotonic', cv=3)\n",
    "calibrated.fit(X_train,y_train)\n",
    "\n",
    "# predict probabilities\n",
    "probs = calibrated.predict_proba(X_test)[:, 1]"
   ]
  },
  {
   "cell_type": "code",
   "execution_count": 53,
   "metadata": {},
   "outputs": [
    {
     "data": {
      "image/png": "[encoded data removed]",
      "text/plain": [
       "<Figure size 432x288 with 1 Axes>"
      ]
     },
     "metadata": {
      "needs_background": "light"
     },
     "output_type": "display_data"
    }
   ],
   "source": [
    "# reliability diagrams\n",
    "rf_y_unca, rf_x_unca = calibration_curve(y_test, y_pred_prob, n_bins=10, normalize=True)\n",
    "rf_y_cal, rf_x_cal = calibration_curve(y_test, probs, n_bins=10, normalize=True)\n",
    "\n",
    "fig, ax = plt.subplots()\n",
    "\n",
    "# plot perfectly calibrated\n",
    "plt.plot([0, 1], [0, 1], linestyle='--', color='black')\n",
    "\n",
    "\n",
    "# plot model reliabilities\n",
    "# only these two lines are calibration curves\n",
    "plt.plot(rf_y_unca, rf_x_unca, marker='o', linewidth=1, label='unc')\n",
    "# only these two lines are calibration curves\n",
    "plt.plot(rf_y_cal, rf_x_cal, marker='.', linewidth=1, label='cal')\n",
    "\n",
    "fig.suptitle('Calibration plot')\n",
    "ax.set_xlabel('Predicted probs')\n",
    "ax.set_ylabel('True Probs')\n",
    "\n",
    "plt.legend(); \n",
    "plt.show()"
   ]
  },
  {
   "cell_type": "code",
   "execution_count": 54,
   "metadata": {},
   "outputs": [
    {
     "name": "stdout",
     "output_type": "stream",
     "text": [
      "Before calibration: 0.136\n",
      "After calibration: 0.134\n",
      "Log Loss before calib: 0.433\n",
      "Log Loss after calib: 0.428\n"
     ]
    }
   ],
   "source": [
    "# calculate bier score\n",
    "print(\"Before calibration: {}\".format(round(brier_score_loss(y_test, y_pred_prob, pos_label=1),3)))\n",
    "print(\"After calibration: {}\".format(round(brier_score_loss(y_test, probs, pos_label=1),3)))\n",
    "print(\"Log Loss before calib: {}\".format(round(log_loss(y_test, y_pred_prob, eps=1e-15, normalize=True),3)))\n",
    "print(\"Log Loss after calib: {}\".format(round(log_loss(y_test, probs, eps=1e-15, normalize=True),3)))"
   ]
  },
  {
   "cell_type": "code",
   "execution_count": null,
   "metadata": {},
   "outputs": [],
   "source": []
  }
 ],
 "metadata": {
  "kernelspec": {
   "display_name": "Python 3",
   "language": "python",
   "name": "python3"
  },
  "language_info": {
   "codemirror_mode": {
    "name": "ipython",
    "version": 3
   },
   "file_extension": ".py",
   "mimetype": "text/x-python",
   "name": "python",
   "nbconvert_exporter": "python",
   "pygments_lexer": "ipython3",
   "version": "3.8.5"
  }
 },
 "nbformat": 4,
 "nbformat_minor": 2
}
